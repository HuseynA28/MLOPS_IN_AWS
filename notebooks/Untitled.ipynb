{
 "cells": [
  {
   "cell_type": "code",
   "execution_count": 2,
   "id": "46167e2c-c860-476b-8387-2d26cc60af34",
   "metadata": {},
   "outputs": [],
   "source": [
    "import mlflow\n",
    "\n",
    "# Set MLflow tracking URI\n",
    "mlflow.set_tracking_uri(\"http://mlflow_server:5000\")\n",
    "\n"
   ]
  },
  {
   "cell_type": "code",
   "execution_count": 3,
   "id": "dd119ae0-9730-4410-be43-d14565ee21c7",
   "metadata": {},
   "outputs": [
    {
     "name": "stderr",
     "output_type": "stream",
     "text": [
      "2024/07/30 22:00:15 INFO mlflow.tracking._tracking_service.client: 🏃 View run delightful-hen-650 at: http://mlflow_server:5000/#/experiments/0/runs/2bece030479f499ba61374ff2db8fa76.\n",
      "2024/07/30 22:00:15 INFO mlflow.tracking._tracking_service.client: 🧪 View experiment at: http://mlflow_server:5000/#/experiments/0.\n"
     ]
    }
   ],
   "source": [
    "# Start an MLflow experiment\n",
    "mlflow.start_run()\n",
    "\n",
    "# Log a parameter (key-value pair)\n",
    "mlflow.log_param(\"param1\", 5)\n",
    "\n",
    "# Log a metric (key-value pair)\n",
    "mlflow.log_metric(\"metric1\", 0.85)\n",
    "\n",
    "# End the MLflow run\n",
    "mlflow.end_run()\n"
   ]
  },
  {
   "cell_type": "code",
   "execution_count": null,
   "id": "70b3c4e1-1c58-488d-9a73-7dfbd5e063a2",
   "metadata": {},
   "outputs": [],
   "source": [
    "import mlflow\n",
    "import matplotlib.pyplot as plt\n",
    "import numpy as np\n",
    "\n",
    "# Set the MLflow tracking URI\n",
    "mlflow.set_tracking_uri(\"http://mlflow_server:5000\")\n",
    "\n",
    "# Start an MLflow experiment\n",
    "with mlflow.start_run():\n",
    "    # Log parameters and metrics\n",
    "    mlflow.log_param(\"param1\", 5)\n",
    "    mlflow.log_metric(\"metric1\", 0.85)\n",
    "    \n",
    "    # Create and save a plot\n",
    "    x = np.linspace(0, 10, 100)\n",
    "    y = np.sin(x)\n",
    "    plt.figure(figsize=(10, 5))\n",
    "    plt.plot(x, y)\n",
    "    plt.title('Sine Wave')\n",
    "    plt.xlabel('Time')\n",
    "    plt.ylabel('Amplitude')\n",
    "    plt.grid(True)\n",
    "    plt.savefig(\"sine_wave.png\")\n",
    "    plt.close()\n",
    "    \n",
    "    # Log the plot as an artifact\n",
    "    mlflow.log_artifact(\"sine_wave.png\")\n"
   ]
  }
 ],
 "metadata": {
  "kernelspec": {
   "display_name": "Python 3 (ipykernel)",
   "language": "python",
   "name": "python3"
  },
  "language_info": {
   "codemirror_mode": {
    "name": "ipython",
    "version": 3
   },
   "file_extension": ".py",
   "mimetype": "text/x-python",
   "name": "python",
   "nbconvert_exporter": "python",
   "pygments_lexer": "ipython3",
   "version": "3.11.6"
  }
 },
 "nbformat": 4,
 "nbformat_minor": 5
}
